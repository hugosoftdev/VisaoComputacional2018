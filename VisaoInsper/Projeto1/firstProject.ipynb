{
 "cells": [
  {
   "cell_type": "code",
   "execution_count": 1,
   "metadata": {},
   "outputs": [],
   "source": [
    "#import\n",
    "%matplotlib inline\n",
    "import cv2\n",
    "import numpy as np\n",
    "import matplotlib.pyplot as plt"
   ]
  },
  {
   "cell_type": "code",
   "execution_count": 2,
   "metadata": {},
   "outputs": [],
   "source": [
    "img = cv2.imread('colors.png')"
   ]
  },
  {
   "cell_type": "code",
   "execution_count": 3,
   "metadata": {},
   "outputs": [],
   "source": [
    "cv2.imshow('Imagem Original', img)\n",
    "cv2.waitKey()\n",
    "cv2.destroyAllWindows()"
   ]
  },
  {
   "cell_type": "code",
   "execution_count": 4,
   "metadata": {},
   "outputs": [],
   "source": [
    "rgb_img = cv2.cvtColor(img, cv2.COLOR_BGR2RGB)"
   ]
  },
  {
   "cell_type": "code",
   "execution_count": 5,
   "metadata": {},
   "outputs": [],
   "source": [
    "rgb_protanopes =  rgb_img.copy()\n",
    "rgb_protanopes = (rgb_protanopes / 255.0) ** 2.2\n",
    "rgb_protanopes =  0.992052 * rgb_protanopes + 0.003974\n",
    "\n",
    "rgb_deuteranopes =  rgb_img.copy()\n",
    "rgb_deuteranopes = (rgb_deuteranopes / 255.0) ** 2.2\n",
    "rgb_deuteranopes =  0.957237 * rgb_deuteranopes + 0.0213814"
   ]
  },
  {
   "cell_type": "code",
   "execution_count": 6,
   "metadata": {},
   "outputs": [],
   "source": [
    "def turn_into_3_1(simple_array):\n",
    "    formatted_matrix = []\n",
    "    for i in simple_array:\n",
    "        formatted_matrix.append([i])\n",
    "    return formatted_matrix\n",
    "\n",
    "def turn_into_array(matrix):\n",
    "    array = []\n",
    "    for i in matrix:\n",
    "        for j in i:\n",
    "            array.append(j)\n",
    "    return array\n",
    "\n",
    "def rgb_to_xyz(matrix):\n",
    "    conversion_matrix = [[40.9568, 35.5041, 17.9167],\n",
    "                        [21.3389, 70.6743, 7.98680],\n",
    "                        [1.86297, 11.4620, 91.2367]]\n",
    "    for i in range(0,len(matrix)):\n",
    "        for j in range(0,len(matrix[i])):\n",
    "             result = np.matmul(conversion_matrix, turn_into_3_1(matrix[i][j]))\n",
    "             matrix[i][j] = turn_into_array(result)\n",
    "    return matrix\n",
    "\n",
    "def xyz_to_lms(matrix):\n",
    "    conversion_matrix = [[0.15514, 0.54312, -0.03286],\n",
    "                         [-0.15514, 0.45684, 0.03286],\n",
    "                         [0,0, 0.01608]]\n",
    "    for i in range(0,len(matrix)):\n",
    "        for j in range(0,len(matrix[i])):\n",
    "             result = np.matmul(conversion_matrix, turn_into_3_1(matrix[i][j]))\n",
    "             matrix[i][j] = turn_into_array(result)\n",
    "    return matrix\n",
    "\n",
    "def lms_to_rgb(matrix):\n",
    "    conversion_matrix = [[0.080944, -0.130504, 0.116721],\n",
    "                        [-0.0102485 ,0.0540194, -0.113615],\n",
    "                        [-0.000365294, -0.00412163, 0.693513]]\n",
    "    for i in range(0,len(matrix)):\n",
    "        for j in range(0,len(matrix[i])):\n",
    "             result = np.matmul(conversion_matrix, turn_into_3_1(matrix[i][j]))\n",
    "             matrix[i][j] = turn_into_array(result)\n",
    "    return matrix\n",
    "    "
   ]
  },
  {
   "cell_type": "code",
   "execution_count": 7,
   "metadata": {},
   "outputs": [],
   "source": [
    "def lms_conversion(matrix, p_or_d):\n",
    "    conversion_matrix = None\n",
    "    if p_or_d == 'p':\n",
    "        conversion_matrix =  [[0,2.022344, -2.52581],[0,1,0],[0,0,1]]\n",
    "    else:\n",
    "        conversion_matrix =  [[1, 0,0],\n",
    "                              [0.494207, 0, 1.24827],\n",
    "                              [0, 0, 1]]\n",
    "        \n",
    "    for i in range(0,len(matrix)):\n",
    "        for j in range(0,len(matrix[i])):\n",
    "             result = np.matmul(conversion_matrix, turn_into_3_1(matrix[i][j]))\n",
    "             matrix[i][j] = turn_into_array(result)\n",
    "    return matrix;"
   ]
  },
  {
   "cell_type": "code",
   "execution_count": 8,
   "metadata": {},
   "outputs": [],
   "source": [
    "lms_prota = rgb_protanopes.copy()\n",
    "lms_prota = rgb_to_xyz(lms_prota)\n",
    "lms_prota = xyz_to_lms(lms_prota)\n",
    "lms_prota = lms_conversion(lms_prota, 'p')\n",
    "final_prota_rgb = lms_to_rgb(lms_prota)\n",
    "final_prota_rgb = np.uint8((final_prota_rgb ** (1/2.2))*255.0)\n",
    "prota_vizualization = cv2.cvtColor(final_prota_rgb, cv2.COLOR_RGB2BGR)"
   ]
  },
  {
   "cell_type": "code",
   "execution_count": 9,
   "metadata": {},
   "outputs": [],
   "source": [
    "lms_deuter = rgb_deuteranopes.copy()\n",
    "lms_deuter = rgb_to_xyz(lms_deuter)\n",
    "lms_deuter = xyz_to_lms(lms_deuter)\n",
    "lms_deuter = lms_conversion(lms_deuter, 'd')\n",
    "final_deuter_rgb = lms_to_rgb(lms_deuter)\n",
    "final_deuter_rgb = np.uint8((final_deuter_rgb ** (1/2.2))*255.0)\n",
    "deuter_vizualization = cv2.cvtColor(final_deuter_rgb, cv2.COLOR_RGB2BGR)\n",
    "\n",
    "cv2.imshow('Deuter vizualization', deuter_vizualization)\n",
    "cv2.imshow('Prota vizualization', prota_vizualization)\n",
    "\n",
    "cv2.waitKey()\n",
    "cv2.destroyAllWindows()"
   ]
  },
  {
   "cell_type": "code",
   "execution_count": null,
   "metadata": {},
   "outputs": [],
   "source": []
  }
 ],
 "metadata": {
  "kernelspec": {
   "display_name": "Python 3",
   "language": "python",
   "name": "python3"
  },
  "language_info": {
   "codemirror_mode": {
    "name": "ipython",
    "version": 3
   },
   "file_extension": ".py",
   "mimetype": "text/x-python",
   "name": "python",
   "nbconvert_exporter": "python",
   "pygments_lexer": "ipython3",
   "version": "3.5.2"
  }
 },
 "nbformat": 4,
 "nbformat_minor": 2
}
